{
 "cells": [
  {
   "cell_type": "markdown",
   "id": "complex-breakdown",
   "metadata": {},
   "source": [
    "### [Rosalind Textbook Track Problem BA10A](http://rosalind.info/problems/ba10a/)\n",
    "\n",
    "\n",
    "Given: A hidden path π followed by the states States and transition matrix Transition of a Hidden Markov Model (Σ, States, Transition, Emission).\n",
    "Return: The probability of this path, Pr(π). You may assume that initial probabilities are equal (i.e. 0.5).\n",
    "\n",
    "\n",
    "Sample Dataset: `AABBBAABABAAAABBBBAABBABABBBAABBAAAABABAABBABABBAB`\n",
    "Possible states: `A   B`\n",
    "Transition Matrix:\n",
    "\n",
    "```\n",
    "     A       B\n",
    "A   0.194   0.806\n",
    "B   0.273   0.727\n",
    "```\n"
   ]
  },
  {
   "cell_type": "code",
   "execution_count": 8,
   "id": "needed-preview",
   "metadata": {},
   "outputs": [
    {
     "name": "stdout",
     "output_type": "stream",
     "text": [
      "5.017328653175628e-19\n"
     ]
    }
   ],
   "source": [
    "# Hidden Markov Model problem\n",
    "# The probability of the initial 'A' or 'B' is equal, so the lead\n",
    "# factor is 1/2. Thereafter the probabilities are given by a transition matrix.\n",
    "\n",
    "# solve for the probability of...\n",
    "path = 'AABBBAABABAAAABBBBAABBABABBBAABBAAAABABAABBABABBAB'\n",
    "\n",
    "probability = 0.5\n",
    "\n",
    "for i in range(0, len(path)-1):\n",
    "    if path[i] == 'A': probability *= .194 if path[i+1] == 'A' else .806\n",
    "    else:              probability *= .273 if path[i+1] == 'A' else .727\n",
    "\n",
    "print(probability)"
   ]
  },
  {
   "cell_type": "markdown",
   "id": "needed-sailing",
   "metadata": {},
   "source": [
    "### [Rosalind Textbook Track Problem BA10B](http://rosalind.info/problems/ba10b/)\n",
    "\n",
    "\n",
    "The string `x` is `xxyzyxzzxzxyxyyzxxzzxxyyxxyxyzzxxyzyzxzxxyxyyzxxzx`.\n",
    "\n",
    "The alphabet \"Σ\" is x, y, z.\n",
    "\n",
    "The hidden path \"π\" is `BBBAAABABABBBBBBAAAAAABAAAABABABBBBBABAABABABABBBB`.\n",
    "\n",
    "The hidden path states are A and B (note these are analogous to the alphabet above).\n",
    "\n",
    "The Emission Matrix is \n",
    "\n",
    "```\n",
    "     x       y       z\n",
    "A   0.612   0.314   0.074 \n",
    "B   0.346   0.317   0.336\n",
    "```\n",
    "\n",
    "That is, given the state is `B` the probability of adding `y` to the string is .317. \n",
    "Notice the sums across for the two state rows A and B are both 1.0. \n",
    "\n",
    "\n",
    "The calculation is to multiply out the probabilities of `y` given `A` and so forth across the entire string.\n"
   ]
  },
  {
   "cell_type": "code",
   "execution_count": 10,
   "id": "fatty-dallas",
   "metadata": {},
   "outputs": [
    {
     "name": "stdout",
     "output_type": "stream",
     "text": [
      "1.9315707089321372e-28\n"
     ]
    }
   ],
   "source": [
    "x = \"xxyzyxzzxzxyxyyzxxzzxxyyxxyxyzzxxyzyzxzxxyxyyzxxzx\"\n",
    "\n",
    "Pi = \"BBBAAABABABBBBBBAAAAAABAAAABABABBBBBABAABABABABBBB\"\n",
    "\n",
    "product = 1.\n",
    "\n",
    "# this defines a dictionary of the Emission Matrix\n",
    "EM = {\n",
    "    \"Ax\": .612,\n",
    "    \"Ay\": .314,\n",
    "    \"Az\": .074,\n",
    "    \"Bx\": .346,\n",
    "    \"By\": .317,\n",
    "    \"Bz\": .336\n",
    "}\n",
    "\n",
    "# print(len(x), len(Pi))\n",
    "\n",
    "for s in range(len(x)):\n",
    "    first = Pi[s]\n",
    "    second = x[s]\n",
    "    key = first + second\n",
    "    product *= EM[key]\n",
    "    \n",
    "print(product)"
   ]
  },
  {
   "cell_type": "code",
   "execution_count": null,
   "id": "potential-guess",
   "metadata": {},
   "outputs": [],
   "source": []
  }
 ],
 "metadata": {
  "kernelspec": {
   "display_name": "Python 3",
   "language": "python",
   "name": "python3"
  },
  "language_info": {
   "codemirror_mode": {
    "name": "ipython",
    "version": 3
   },
   "file_extension": ".py",
   "mimetype": "text/x-python",
   "name": "python",
   "nbconvert_exporter": "python",
   "pygments_lexer": "ipython3",
   "version": "3.8.3"
  }
 },
 "nbformat": 4,
 "nbformat_minor": 5
}
