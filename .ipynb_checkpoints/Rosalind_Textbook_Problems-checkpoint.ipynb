{
 "cells": [
  {
   "cell_type": "markdown",
   "id": "imposed-alaska",
   "metadata": {},
   "source": [
    "### [Rosalind Textbook Track Problem BA10A](http://rosalind.info/problems/ba10a/)\n",
    "\n",
    "\n",
    "Given: A hidden path π followed by the states States and transition matrix Transition of a Hidden Markov Model (Σ, States, Transition, Emission).\n",
    "Return: The probability of this path, Pr(π). You may assume that initial probabilities are equal (i.e. 0.5).\n",
    "\n",
    "\n",
    "Sample Dataset: `AABBBAABABAAAABBBBAABBABABBBAABBAAAABABAABBABABBAB`\n",
    "Possible states: `A   B`\n",
    "Transition Matrix:\n",
    "\n",
    "```\n",
    "     A       B\n",
    "A   0.194   0.806\n",
    "B   0.273   0.727\n",
    "```\n"
   ]
  },
  {
   "cell_type": "code",
   "execution_count": 8,
   "id": "ignored-league",
   "metadata": {},
   "outputs": [
    {
     "name": "stdout",
     "output_type": "stream",
     "text": [
      "5.017328653175628e-19\n"
     ]
    }
   ],
   "source": [
    "# Hidden Markov Model problem\n",
    "# The probability of the initial 'A' or 'B' is equal, so the lead\n",
    "# factor is 1/2. Thereafter the probabilities are given by a transition matrix.\n",
    "\n",
    "# solve for the probability of...\n",
    "path = 'AABBBAABABAAAABBBBAABBABABBBAABBAAAABABAABBABABBAB'\n",
    "\n",
    "probability = 0.5\n",
    "\n",
    "for i in range(0, len(path)-1):\n",
    "    if path[i] == 'A': probability *= .194 if path[i+1] == 'A' else .806\n",
    "    else:              probability *= .273 if path[i+1] == 'A' else .727\n",
    "\n",
    "print(probability)"
   ]
  },
  {
   "cell_type": "markdown",
   "id": "african-usage",
   "metadata": {},
   "source": [
    "### [Rosalind Textbook Track Problem BA10B](http://rosalind.info/problems/ba10b/)\n",
    "\n",
    "\n",
    "The string `x` is `xxyzyxzzxzxyxyyzxxzzxxyyxxyxyzzxxyzyzxzxxyxyyzxxzx`.\n",
    "\n",
    "The alphabet \"Σ\" is x, y, z.\n",
    "\n",
    "The hidden path \"π\" is `BBBAAABABABBBBBBAAAAAABAAAABABABBBBBABAABABABABBBB`.\n",
    "\n",
    "The hidden path states are A and B (note these are analogous to the alphabet above).\n",
    "\n",
    "The Emission Matrix is \n",
    "\n",
    "```\n",
    "     x       y       z\n",
    "A   0.612   0.314   0.074 \n",
    "B   0.346   0.317   0.336\n",
    "```\n",
    "\n",
    "That is, given the state is `B` the probability of adding `y` to the string is .317. \n",
    "Notice the sums across for the two state rows A and B are both 1.0. \n",
    "\n",
    "\n",
    "The calculation is to multiply out the probabilities of `y` given `A` and so forth across the entire string.\n"
   ]
  },
  {
   "cell_type": "code",
   "execution_count": 10,
   "id": "rental-insured",
   "metadata": {},
   "outputs": [
    {
     "name": "stdout",
     "output_type": "stream",
     "text": [
      "1.9315707089321372e-28\n"
     ]
    }
   ],
   "source": [
    "x = \"xxyzyxzzxzxyxyyzxxzzxxyyxxyxyzzxxyzyzxzxxyxyyzxxzx\"\n",
    "\n",
    "Pi = \"BBBAAABABABBBBBBAAAAAABAAAABABABBBBBABAABABABABBBB\"\n",
    "\n",
    "product = 1.\n",
    "\n",
    "# this defines a dictionary of the Emission Matrix\n",
    "EM = {\n",
    "    \"Ax\": .612,\n",
    "    \"Ay\": .314,\n",
    "    \"Az\": .074,\n",
    "    \"Bx\": .346,\n",
    "    \"By\": .317,\n",
    "    \"Bz\": .336\n",
    "}\n",
    "\n",
    "# print(len(x), len(Pi))\n",
    "\n",
    "for s in range(len(x)):\n",
    "    first = Pi[s]\n",
    "    second = x[s]\n",
    "    key = first + second\n",
    "    product *= EM[key]\n",
    "    \n",
    "print(product)"
   ]
  },
  {
   "cell_type": "markdown",
   "id": "patient-partner",
   "metadata": {},
   "source": [
    "### [Rosalind Textbook Track Problem BA10C](http://rosalind.info/problems/ba10c/)\n",
    "\n",
    "Given: A string `xyxzzxyxyy` from an alphabet `x y z` (as in the previous problem).\n",
    "Given: Two possible states **A**, **B**\n",
    "Given: A state transition matrix\n",
    "Given: A string emission matrix\n",
    "\n",
    "\n",
    "Find: A path that maximizes the (unconditional) probability Pr(x, π) over all possible paths π.\n",
    "\n",
    "\n",
    "The transition matrix is \n",
    "\n",
    "\n",
    "```\n",
    "     A       B\n",
    "A   0.641   0.359\n",
    "B   0.729   0.271\n",
    "```\n",
    "\n",
    "\n",
    "The emission matrix is\n",
    "\n",
    "\n",
    "```\n",
    "     x       y       z\n",
    "A   0.117   0.691   0.192   \n",
    "B   0.097   0.42    0.483\n",
    "```\n",
    "\n",
    "\n",
    "I believe we would say that the transition matrix governs the progression from one state to\n",
    "the next; whereas the emission matrix governs the progression from current state to corresponding\n",
    "next string element. \n",
    "\n",
    "\n",
    "This is a very interesting problem as a continuation of the first two (ba10a and ba10b). \n",
    "It is essentially saying that there is a sequence of states that we are to find: Such that\n",
    "the probability of the string is maximized, in relation to the probability of getting that\n",
    "string from any other state path.\n",
    "\n",
    "\n",
    "If we simplistically map x y z to A and B then every x gives A, every y gives A, and every z gives B. \n",
    "This means\n",
    "\n",
    "```\n",
    "xyxzzxyxyy --> AAABBAAAAA\n",
    "```\n",
    "\n",
    "But this is not the correct approach. "
   ]
  }
 ],
 "metadata": {
  "kernelspec": {
   "display_name": "Python 3",
   "language": "python",
   "name": "python3"
  },
  "language_info": {
   "codemirror_mode": {
    "name": "ipython",
    "version": 3
   },
   "file_extension": ".py",
   "mimetype": "text/x-python",
   "name": "python",
   "nbconvert_exporter": "python",
   "pygments_lexer": "ipython3",
   "version": "3.8.3"
  }
 },
 "nbformat": 4,
 "nbformat_minor": 5
}
